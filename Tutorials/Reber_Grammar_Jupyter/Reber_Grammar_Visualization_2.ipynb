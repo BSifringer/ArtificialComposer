{
 "cells": [
  {
   "cell_type": "markdown",
   "metadata": {},
   "source": [
    "# Reber Grammar Visualization\n",
    "... do some nice visualization stuff"
   ]
  },
  {
   "cell_type": "markdown",
   "metadata": {},
   "source": [
    "Import keras and plotting libraries"
   ]
  },
  {
   "cell_type": "code",
   "execution_count": 1,
   "metadata": {},
   "outputs": [
    {
     "name": "stderr",
     "output_type": "stream",
     "text": [
      "Using Theano backend.\n"
     ]
    }
   ],
   "source": [
    "from keras.models import load_model\n",
    "import matplotlib.pyplot as plt\n",
    "import numpy as np\n",
    "import reber_utility as ru"
   ]
  },
  {
   "cell_type": "markdown",
   "metadata": {},
   "source": [
    "load data and model:"
   ]
  },
  {
   "cell_type": "code",
   "execution_count": 2,
   "metadata": {
    "collapsed": true
   },
   "outputs": [],
   "source": [
    "model = load_model('embedCerg_model_2.h5')\n",
    "train_metrics = np.load('embedTrainMetrics_2.npy')\n",
    "test_metrics = np.load('embedTestMetrics_2.npy')\n",
    "X = np.load('embedXdata_2.npy')\n",
    "m = ru.generate_reber_machine_discrete()"
   ]
  },
  {
   "cell_type": "markdown",
   "metadata": {},
   "source": [
    "create predictions:"
   ]
  },
  {
   "cell_type": "code",
   "execution_count": 3,
   "metadata": {
    "collapsed": true
   },
   "outputs": [],
   "source": [
    "input_shape = (model.get_layer(index=0)).input_shape\n",
    "\n",
    "xPredictBatch = X[-input_shape[0]:,:input_shape[1]]\n",
    "P = model.predict(xPredictBatch, batch_size = input_shape[0])\n",
    "\n",
    "P = P.transpose(0,2,1)"
   ]
  },
  {
   "cell_type": "markdown",
   "metadata": {},
   "source": [
    "plot predictions:"
   ]
  },
  {
   "cell_type": "code",
   "execution_count": 4,
   "metadata": {},
   "outputs": [
    {
     "data": {
      "image/png": "[encoded data removed]",
      "text/plain": [
       "<matplotlib.figure.Figure at 0x7f561d0f0ad0>"
      ]
     },
     "metadata": {},
     "output_type": "display_data"
    }
   ],
   "source": [
    "imgplot = plt.imshow(P[0])\n",
    "plt.yticks(np.arange(P[0].shape[0]), list(m.index2trans.values()))\n",
    "plt.xticks(np.arange(P[0].shape[1]), [m.index2trans[np.argmax(i)] for i in xPredictBatch[0]])\n",
    "plt.show()"
   ]
  },
  {
   "cell_type": "markdown",
   "metadata": {},
   "source": [
    "plot metrics:"
   ]
  },
  {
   "cell_type": "code",
   "execution_count": 5,
   "metadata": {},
   "outputs": [
    {
     "data": {
      "image/png": "[encoded data removed]",
      "text/plain": [
       "<matplotlib.figure.Figure at 0x7f561797e690>"
      ]
     },
     "metadata": {},
     "output_type": "display_data"
    }
   ],
   "source": [
    "x = range(train_metrics.shape[0])\n",
    "\n",
    "plt.plot(x, train_metrics[:,0]/10, 'red')\n",
    "plt.plot(x, test_metrics[:,0]/2, 'blue')\n",
    "\n",
    "plt.plot(x, train_metrics[:,1]/10, 'red')\n",
    "plt.plot(x, test_metrics[:,1]/2, 'blue')\n",
    "\n",
    "plt.legend(['Train_data', 'Test_data'])\n",
    "plt.ylabel('Loss/Accuracy')\n",
    "plt.xlabel('Number of Epochs')\n",
    "plt.show()"
   ]
  },
  {
   "cell_type": "code",
   "execution_count": null,
   "metadata": {
    "collapsed": true
   },
   "outputs": [],
   "source": []
  }
 ],
 "metadata": {
  "kernelspec": {
   "display_name": "Python 2",
   "language": "python",
   "name": "python2"
  },
  "language_info": {
   "codemirror_mode": {
    "name": "ipython",
    "version": 2
   },
   "file_extension": ".py",
   "mimetype": "text/x-python",
   "name": "python",
   "nbconvert_exporter": "python",
   "pygments_lexer": "ipython2",
   "version": "2.7.13"
  }
 },
 "nbformat": 4,
 "nbformat_minor": 2
}
